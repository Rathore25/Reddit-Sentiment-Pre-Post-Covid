{
  "nbformat": 4,
  "nbformat_minor": 0,
  "metadata": {
    "colab": {
      "name": "Visualizing the subreddit comments.ipynb",
      "provenance": [],
      "collapsed_sections": [],
      "mount_file_id": "1cNlZ6jwUQbfdcqSHw9B_-IIkSJUli5l1",
      "authorship_tag": "ABX9TyOIDS9HWlPQvSnvN6Mvb94q",
      "include_colab_link": true
    },
    "kernelspec": {
      "name": "python3",
      "display_name": "Python 3"
    },
    "language_info": {
      "name": "python"
    }
  },
  "cells": [
    {
      "cell_type": "markdown",
      "metadata": {
        "id": "view-in-github",
        "colab_type": "text"
      },
      "source": [
        "<a href=\"https://colab.research.google.com/github/Rathore25/Reddit-Sentiment-Pre-Post-Covid/blob/main/Visualizing_the_subreddit_comments.ipynb\" target=\"_parent\"><img src=\"https://colab.research.google.com/assets/colab-badge.svg\" alt=\"Open In Colab\"/></a>"
      ]
    },
    {
      "cell_type": "code",
      "metadata": {
        "id": "bnOkEwdTVXKR"
      },
      "source": [
        "import numpy as np\n",
        "import pandas as pd\n",
        "import os\n",
        "import json\n",
        "import codecs\n",
        "import nltk\n",
        "import re\n",
        "import string\n",
        "from nltk.corpus import stopwords\n",
        "from nltk.stem import PorterStemmer\n",
        "from nltk.tokenize import TweetTokenizer\n",
        "import matplotlib.pyplot as plt\n",
        "import matplotlib.colors as mcolors"
      ],
      "execution_count": 13,
      "outputs": []
    },
    {
      "cell_type": "code",
      "metadata": {
        "id": "bJVT-PoRVj7Y"
      },
      "source": [
        "project_dir = '/content/drive/MyDrive/NEU/6120/Final Project/'\n",
        "subreddits  = ['boston','losangeles','texas','mentalhealth','depression']\n",
        "periods     = [\"Jan'19\",\"Feb'19\",\"Mar'19\",\"Apr'19\",\"May'19\",\"Jun'19\",\"Jul'19\",\"Aug'19\",\"Sep'19\",\"Oct'19\",\"Nov'19\",\"Dec'19\",\n",
        "               \"Jan'20\",\"Feb'20\",\"Mar'20\",\"Apr'20\",\"May'20\",\"Jun'20\",\"Jul'20\",\"Aug'20\",\"Sep'20\",\"Oct'20\",\"Nov'20\",\"Dec'20\",\n",
        "               \"Jan'21\",\"Feb'21\",\"Mar'21\"]"
      ],
      "execution_count": 25,
      "outputs": []
    },
    {
      "cell_type": "code",
      "metadata": {
        "id": "5C2fAk2oVyPi"
      },
      "source": [
        "dfs = {}\n",
        "\n",
        "for subreddit in subreddits:\n",
        "  dfs[subreddit] = pd.read_csv('{0}{1}.csv'.format(project_dir,subreddit), encoding = 'utf-8-sig')"
      ],
      "execution_count": 7,
      "outputs": []
    },
    {
      "cell_type": "code",
      "metadata": {
        "colab": {
          "base_uri": "https://localhost:8080/",
          "height": 206
        },
        "id": "Zk7NMdc1WKR5",
        "outputId": "43a5116b-d9f8-4a0b-ae8e-6aaf39df2caa"
      },
      "source": [
        "df.head()"
      ],
      "execution_count": 5,
      "outputs": [
        {
          "output_type": "execute_result",
          "data": {
            "text/html": [
              "<div>\n",
              "<style scoped>\n",
              "    .dataframe tbody tr th:only-of-type {\n",
              "        vertical-align: middle;\n",
              "    }\n",
              "\n",
              "    .dataframe tbody tr th {\n",
              "        vertical-align: top;\n",
              "    }\n",
              "\n",
              "    .dataframe thead th {\n",
              "        text-align: right;\n",
              "    }\n",
              "</style>\n",
              "<table border=\"1\" class=\"dataframe\">\n",
              "  <thead>\n",
              "    <tr style=\"text-align: right;\">\n",
              "      <th></th>\n",
              "      <th>period</th>\n",
              "      <th>body</th>\n",
              "      <th>score</th>\n",
              "      <th>subreddit</th>\n",
              "    </tr>\n",
              "  </thead>\n",
              "  <tbody>\n",
              "    <tr>\n",
              "      <th>0</th>\n",
              "      <td>0</td>\n",
              "      <td>If he's telling the truth yes. But then how do...</td>\n",
              "      <td>1</td>\n",
              "      <td>boston</td>\n",
              "    </tr>\n",
              "    <tr>\n",
              "      <th>1</th>\n",
              "      <td>0</td>\n",
              "      <td>Being a conductor on the commuter rail I alway...</td>\n",
              "      <td>1</td>\n",
              "      <td>boston</td>\n",
              "    </tr>\n",
              "    <tr>\n",
              "      <th>2</th>\n",
              "      <td>0</td>\n",
              "      <td>club hits like “police action” and “harvard si...</td>\n",
              "      <td>1</td>\n",
              "      <td>boston</td>\n",
              "    </tr>\n",
              "    <tr>\n",
              "      <th>3</th>\n",
              "      <td>0</td>\n",
              "      <td>This looks like a pretty big ruling for the ar...</td>\n",
              "      <td>1</td>\n",
              "      <td>boston</td>\n",
              "    </tr>\n",
              "    <tr>\n",
              "      <th>4</th>\n",
              "      <td>0</td>\n",
              "      <td>Impressive..  keep up the good work!</td>\n",
              "      <td>1</td>\n",
              "      <td>boston</td>\n",
              "    </tr>\n",
              "  </tbody>\n",
              "</table>\n",
              "</div>"
            ],
            "text/plain": [
              "   period                                               body  score subreddit\n",
              "0       0  If he's telling the truth yes. But then how do...      1    boston\n",
              "1       0  Being a conductor on the commuter rail I alway...      1    boston\n",
              "2       0  club hits like “police action” and “harvard si...      1    boston\n",
              "3       0  This looks like a pretty big ruling for the ar...      1    boston\n",
              "4       0               Impressive..  keep up the good work!      1    boston"
            ]
          },
          "metadata": {
            "tags": []
          },
          "execution_count": 5
        }
      ]
    },
    {
      "cell_type": "code",
      "metadata": {
        "id": "l6XJQ74vaKDq"
      },
      "source": [
        "comment_counts = []\n",
        "\n",
        "for subreddit, df in dfs.items():\n",
        "  counts = (df[['period','score']].groupby('period').count()).values\n",
        "  counts = np.squeeze(counts)\n",
        "  comment_counts.append(counts)"
      ],
      "execution_count": 20,
      "outputs": []
    },
    {
      "cell_type": "code",
      "metadata": {
        "colab": {
          "base_uri": "https://localhost:8080/",
          "height": 418
        },
        "id": "3WI2NnCzbOIi",
        "outputId": "52fd377c-1f9c-4445-e91b-0fe4b8137d9b"
      },
      "source": [
        "X   = np.arange(1,28)\n",
        "fig = plt.figure(figsize=[20,5])\n",
        "ax  = fig.add_axes([0,0,1,1])\n",
        "ax.bar(X - 0.30, comment_counts[0], color = 'tab:blue', width = 0.15)\n",
        "ax.bar(X - 0.15, comment_counts[1], color = 'tab:orange', width = 0.15)\n",
        "ax.bar(X + 0.00, comment_counts[2], color = 'tab:green', width = 0.15)\n",
        "ax.bar(X + 0.15, comment_counts[3], color = 'tab:olive', width = 0.15)\n",
        "ax.bar(X + 0.30, comment_counts[4], color = 'tab:cyan', width = 0.15)\n",
        "ax.legend(labels=subreddits)\n",
        "ax.set_ylabel('Comment counts')\n",
        "ax.set_xticks(X)\n",
        "ax.set_xticklabels(periods)\n",
        "ax.set_title(\"Comment counts by month for subreddits\")\n",
        "fig.show()"
      ],
      "execution_count": 32,
      "outputs": [
        {
          "output_type": "display_data",
          "data": {
            "image/png": "[encoded data removed]",
            "text/plain": [
              "<Figure size 1440x360 with 1 Axes>"
            ]
          },
          "metadata": {
            "tags": [],
            "needs_background": "light"
          }
        }
      ]
    }
  ]
}